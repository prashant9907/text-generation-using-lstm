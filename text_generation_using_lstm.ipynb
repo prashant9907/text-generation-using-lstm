{
  "metadata": {
    "kernelspec": {
      "name": "python3",
      "display_name": "Python 3"
    },
    "language_info": {
      "name": "python",
      "version": "3.10.12",
      "mimetype": "text/x-python",
      "codemirror_mode": {
        "name": "ipython",
        "version": 3
      },
      "pygments_lexer": "ipython3",
      "nbconvert_exporter": "python",
      "file_extension": ".py"
    },
    "colab": {
      "provenance": [],
      "gpuType": "T4"
    },
    "accelerator": "GPU"
  },
  "nbformat_minor": 5,
  "nbformat": 4,
  "cells": [
    {
      "cell_type": "code",
      "source": [
        "import random\n",
        "import pickle\n",
        "\n",
        "import numpy as np\n",
        "import pandas as pd\n",
        "import matplotlib.pyplot as plt\n",
        "from nltk.tokenize import RegexpTokenizer\n",
        "\n",
        "import tensorflow as tf\n",
        "from tensorflow.keras.models import Sequential, load_model\n",
        "from tensorflow.keras.layers import LSTM, Dense, Activation\n",
        "from tensorflow.keras.optimizers import RMSprop, Adam"
      ],
      "metadata": {
        "pycharm": {
          "name": "#%%\n"
        },
        "execution": {
          "iopub.status.busy": "2023-08-19T13:32:02.998179Z",
          "iopub.execute_input": "2023-08-19T13:32:02.998454Z",
          "iopub.status.idle": "2023-08-19T13:32:12.692157Z",
          "shell.execute_reply.started": "2023-08-19T13:32:02.998428Z",
          "shell.execute_reply": "2023-08-19T13:32:12.691114Z"
        },
        "id": "ccu20WhgNJLS",
        "trusted": true
      },
      "execution_count": null,
      "outputs": [],
      "id": "ccu20WhgNJLS"
    },
    {
      "cell_type": "code",
      "source": [
        "filename = \"/content/junglebook.txt\"\n",
        "joined_text = open(filename, 'r', encoding='utf-8').read()\n",
        "joined_text = joined_text.lower()"
      ],
      "metadata": {
        "id": "eSs2a84vNqUF"
      },
      "execution_count": null,
      "outputs": [],
      "id": "eSs2a84vNqUF"
    },
    {
      "cell_type": "code",
      "source": [
        "partial_text = joined_text[:100000]"
      ],
      "metadata": {
        "pycharm": {
          "name": "#%%\n"
        },
        "execution": {
          "iopub.status.busy": "2023-08-19T13:32:12.717017Z",
          "iopub.execute_input": "2023-08-19T13:32:12.717371Z",
          "iopub.status.idle": "2023-08-19T13:32:12.722088Z",
          "shell.execute_reply.started": "2023-08-19T13:32:12.717337Z",
          "shell.execute_reply": "2023-08-19T13:32:12.721039Z"
        },
        "id": "YMmQIKG1NJLX",
        "trusted": true
      },
      "execution_count": null,
      "outputs": [],
      "id": "YMmQIKG1NJLX"
    },
    {
      "cell_type": "code",
      "source": [
        "tokenizer = RegexpTokenizer(r\"\\w+\")\n",
        "tokens = tokenizer.tokenize(partial_text.lower())"
      ],
      "metadata": {
        "pycharm": {
          "name": "#%%\n"
        },
        "execution": {
          "iopub.status.busy": "2023-08-19T13:32:12.725067Z",
          "iopub.execute_input": "2023-08-19T13:32:12.725705Z",
          "iopub.status.idle": "2023-08-19T13:32:12.759548Z",
          "shell.execute_reply.started": "2023-08-19T13:32:12.725648Z",
          "shell.execute_reply": "2023-08-19T13:32:12.758673Z"
        },
        "id": "w26Ae3SzNJLY",
        "trusted": true
      },
      "execution_count": null,
      "outputs": [],
      "id": "w26Ae3SzNJLY"
    },
    {
      "cell_type": "code",
      "source": [
        "unique_tokens = np.unique(tokens)\n",
        "unique_token_index = {token: index for index, token in enumerate(unique_tokens)}"
      ],
      "metadata": {
        "tags": [],
        "pycharm": {
          "name": "#%%\n"
        },
        "execution": {
          "iopub.status.busy": "2023-08-19T13:32:12.760999Z",
          "iopub.execute_input": "2023-08-19T13:32:12.761379Z",
          "iopub.status.idle": "2023-08-19T13:32:12.804084Z",
          "shell.execute_reply.started": "2023-08-19T13:32:12.761347Z",
          "shell.execute_reply": "2023-08-19T13:32:12.803104Z"
        },
        "id": "TVbfKIkrNJLZ",
        "trusted": true
      },
      "execution_count": null,
      "outputs": [],
      "id": "TVbfKIkrNJLZ"
    },
    {
      "cell_type": "code",
      "source": [
        "n_words = 10\n",
        "input_words = []\n",
        "next_word = []\n",
        "\n",
        "for i in range(len(tokens) - n_words):\n",
        "    input_words.append(tokens[i:i + n_words])\n",
        "    next_word.append(tokens[i + n_words])"
      ],
      "metadata": {
        "pycharm": {
          "name": "#%%\n"
        },
        "execution": {
          "iopub.status.busy": "2023-08-19T13:32:12.805184Z",
          "iopub.execute_input": "2023-08-19T13:32:12.805487Z",
          "iopub.status.idle": "2023-08-19T13:32:12.856947Z",
          "shell.execute_reply.started": "2023-08-19T13:32:12.805455Z",
          "shell.execute_reply": "2023-08-19T13:32:12.856085Z"
        },
        "id": "STkQwgHpNJLa",
        "trusted": true
      },
      "execution_count": null,
      "outputs": [],
      "id": "STkQwgHpNJLa"
    },
    {
      "cell_type": "code",
      "source": [
        "X = np.zeros((len(input_words), n_words, len(unique_tokens)), dtype=bool)  # for each sample, n input words and then a boolean for each possible next word\n",
        "y = np.zeros((len(next_word), len(unique_tokens)), dtype=bool)  # for each sample a boolean for each possible next word"
      ],
      "metadata": {
        "pycharm": {
          "name": "#%%\n"
        },
        "execution": {
          "iopub.status.busy": "2023-08-19T13:32:12.858361Z",
          "iopub.execute_input": "2023-08-19T13:32:12.858722Z",
          "iopub.status.idle": "2023-08-19T13:32:12.864327Z",
          "shell.execute_reply.started": "2023-08-19T13:32:12.858673Z",
          "shell.execute_reply": "2023-08-19T13:32:12.863352Z"
        },
        "id": "daX9z85KNJLb",
        "trusted": true
      },
      "execution_count": null,
      "outputs": [],
      "id": "daX9z85KNJLb"
    },
    {
      "cell_type": "code",
      "source": [
        "for i, words in enumerate(input_words):\n",
        "    for j, word in enumerate(words):\n",
        "        X[i, j, unique_token_index[word]] = 1\n",
        "    y[i, unique_token_index[next_word[i]]] = 1"
      ],
      "metadata": {
        "pycharm": {
          "name": "#%%\n"
        },
        "execution": {
          "iopub.status.busy": "2023-08-19T13:32:12.865712Z",
          "iopub.execute_input": "2023-08-19T13:32:12.866421Z",
          "iopub.status.idle": "2023-08-19T13:32:14.508622Z",
          "shell.execute_reply.started": "2023-08-19T13:32:12.866384Z",
          "shell.execute_reply": "2023-08-19T13:32:14.507523Z"
        },
        "id": "oP8PPHjTNJLc",
        "trusted": true
      },
      "execution_count": null,
      "outputs": [],
      "id": "oP8PPHjTNJLc"
    },
    {
      "cell_type": "code",
      "source": [
        "from tensorflow.keras.models import Sequential\n",
        "from tensorflow.keras.layers import Dense, LSTM, Embedding,Bidirectional\n",
        "import tensorflow\n",
        "from tensorflow.compat.v1.keras.layers import CuDNNLSTM\n",
        "from tensorflow.keras.layers import Dropout"
      ],
      "metadata": {
        "execution": {
          "iopub.status.busy": "2023-08-19T13:32:14.510236Z",
          "iopub.execute_input": "2023-08-19T13:32:14.510641Z",
          "iopub.status.idle": "2023-08-19T13:32:15.086994Z",
          "shell.execute_reply.started": "2023-08-19T13:32:14.510601Z",
          "shell.execute_reply": "2023-08-19T13:32:15.086025Z"
        },
        "id": "VXBbsqmANJLd",
        "trusted": true
      },
      "execution_count": null,
      "outputs": [],
      "id": "VXBbsqmANJLd"
    },
    {
      "cell_type": "code",
      "source": [
        "model = Sequential()\n",
        "model.add(CuDNNLSTM(128, input_shape=(n_words, len(unique_tokens)), return_sequences=True))\n",
        "model.add(CuDNNLSTM(128))\n",
        "model.add(Dense(len(unique_tokens)))\n",
        "model.add(Activation(\"softmax\"))\n",
        "model.summary()"
      ],
      "metadata": {
        "pycharm": {
          "name": "#%%\n"
        },
        "execution": {
          "iopub.status.busy": "2023-08-19T13:32:15.090954Z",
          "iopub.execute_input": "2023-08-19T13:32:15.091276Z",
          "iopub.status.idle": "2023-08-19T13:32:18.093657Z",
          "shell.execute_reply.started": "2023-08-19T13:32:15.091247Z",
          "shell.execute_reply": "2023-08-19T13:32:18.092890Z"
        },
        "id": "U9RXztNjNJLe",
        "outputId": "c5f970c0-91b4-4137-fa29-f5266a435c13",
        "colab": {
          "base_uri": "https://localhost:8080/"
        },
        "trusted": true
      },
      "execution_count": null,
      "outputs": [
        {
          "output_type": "stream",
          "name": "stdout",
          "text": "Model: \"sequential\"\n\n_________________________________________________________________\n\n Layer (type)                Output Shape              Param #   \n\n=================================================================\n\n cu_dnnlstm (CuDNNLSTM)      (None, 10, 128)           1348096   \n\n                                                                 \n\n cu_dnnlstm_1 (CuDNNLSTM)    (None, 128)               132096    \n\n                                                                 \n\n dense (Dense)               (None, 2503)              322887    \n\n                                                                 \n\n activation (Activation)     (None, 2503)              0         \n\n                                                                 \n\n=================================================================\n\nTotal params: 1803079 (6.88 MB)\n\nTrainable params: 1803079 (6.88 MB)\n\nNon-trainable params: 0 (0.00 Byte)\n\n_________________________________________________________________\n"
        }
      ],
      "id": "U9RXztNjNJLe"
    },
    {
      "cell_type": "code",
      "source": [
        "from tensorflow.keras.optimizers import Adam"
      ],
      "metadata": {
        "id": "gzu6yf0ptxcN"
      },
      "execution_count": null,
      "outputs": [],
      "id": "gzu6yf0ptxcN"
    },
    {
      "cell_type": "code",
      "source": [
        "optimizer = Adam(learning_rate=0.001)\n",
        "model.compile(loss=\"categorical_crossentropy\", optimizer=optimizer, metrics=[\"accuracy\"])\n",
        "history = model.fit(X, y, batch_size=128, epochs=100, shuffle=True).history"
      ],
      "metadata": {
        "pycharm": {
          "name": "#%%\n"
        },
        "execution": {
          "iopub.status.busy": "2023-08-19T13:32:18.094909Z",
          "iopub.execute_input": "2023-08-19T13:32:18.095250Z",
          "iopub.status.idle": "2023-08-19T13:41:47.677753Z",
          "shell.execute_reply.started": "2023-08-19T13:32:18.095214Z",
          "shell.execute_reply": "2023-08-19T13:41:47.676727Z"
        },
        "id": "oWPEdChsNJLf",
        "outputId": "53690535-b369-40fa-fdf1-2de9b31fcb75",
        "colab": {
          "base_uri": "https://localhost:8080/"
        },
        "trusted": true
      },
      "execution_count": null,
      "outputs": [
        {
          "output_type": "stream",
          "name": "stdout",
          "text": "Epoch 1/100\n\n151/151 [==============================] - 10s 12ms/step - loss: 6.4703 - accuracy: 0.0657\n\nEpoch 2/100\n\n151/151 [==============================] - 2s 11ms/step - loss: 6.1321 - accuracy: 0.0665\n\nEpoch 3/100\n\n151/151 [==============================] - 1s 9ms/step - loss: 6.0933 - accuracy: 0.0665\n\nEpoch 4/100\n\n151/151 [==============================] - 1s 9ms/step - loss: 6.0255 - accuracy: 0.0665\n\nEpoch 5/100\n\n151/151 [==============================] - 1s 9ms/step - loss: 5.9760 - accuracy: 0.0680\n\nEpoch 6/100\n\n151/151 [==============================] - 2s 10ms/step - loss: 5.9138 - accuracy: 0.0770\n\nEpoch 7/100\n\n151/151 [==============================] - 1s 10ms/step - loss: 5.8383 - accuracy: 0.0823\n\nEpoch 8/100\n\n151/151 [==============================] - 1s 9ms/step - loss: 5.7612 - accuracy: 0.0844\n\nEpoch 9/100\n\n151/151 [==============================] - 1s 10ms/step - loss: 5.6879 - accuracy: 0.0861\n\nEpoch 10/100\n\n151/151 [==============================] - 2s 11ms/step - loss: 5.6058 - accuracy: 0.0893\n\nEpoch 11/100\n\n151/151 [==============================] - 2s 10ms/step - loss: 5.5181 - accuracy: 0.0935\n\nEpoch 12/100\n\n151/151 [==============================] - 1s 9ms/step - loss: 5.4296 - accuracy: 0.0965\n\nEpoch 13/100\n\n151/151 [==============================] - 1s 9ms/step - loss: 5.3440 - accuracy: 0.1009\n\nEpoch 14/100\n\n151/151 [==============================] - 1s 9ms/step - loss: 5.2649 - accuracy: 0.1057\n\nEpoch 15/100\n\n151/151 [==============================] - 1s 9ms/step - loss: 5.1797 - accuracy: 0.1097\n\nEpoch 16/100\n\n151/151 [==============================] - 1s 9ms/step - loss: 5.1015 - accuracy: 0.1123\n\nEpoch 17/100\n\n151/151 [==============================] - 1s 9ms/step - loss: 5.0262 - accuracy: 0.1158\n\nEpoch 18/100\n\n151/151 [==============================] - 2s 11ms/step - loss: 4.9455 - accuracy: 0.1244\n\nEpoch 19/100\n\n151/151 [==============================] - 2s 11ms/step - loss: 4.8764 - accuracy: 0.1294\n\nEpoch 20/100\n\n151/151 [==============================] - 1s 9ms/step - loss: 4.8003 - accuracy: 0.1360\n\nEpoch 21/100\n\n151/151 [==============================] - 1s 9ms/step - loss: 4.7299 - accuracy: 0.1419\n\nEpoch 22/100\n\n151/151 [==============================] - 1s 10ms/step - loss: 4.6586 - accuracy: 0.1495\n\nEpoch 23/100\n\n151/151 [==============================] - 1s 10ms/step - loss: 4.5923 - accuracy: 0.1559\n\nEpoch 24/100\n\n151/151 [==============================] - 1s 9ms/step - loss: 4.5255 - accuracy: 0.1622\n\nEpoch 25/100\n\n151/151 [==============================] - 1s 9ms/step - loss: 4.4552 - accuracy: 0.1707\n\nEpoch 26/100\n\n151/151 [==============================] - 1s 10ms/step - loss: 4.3939 - accuracy: 0.1785\n\nEpoch 27/100\n\n151/151 [==============================] - 2s 11ms/step - loss: 4.3302 - accuracy: 0.1872\n\nEpoch 28/100\n\n151/151 [==============================] - 2s 10ms/step - loss: 4.2628 - accuracy: 0.1945\n\nEpoch 29/100\n\n151/151 [==============================] - 1s 9ms/step - loss: 4.1937 - accuracy: 0.2049\n\nEpoch 30/100\n\n151/151 [==============================] - 1s 10ms/step - loss: 4.1467 - accuracy: 0.2071\n\nEpoch 31/100\n\n151/151 [==============================] - 1s 9ms/step - loss: 4.0672 - accuracy: 0.2226\n\nEpoch 32/100\n\n151/151 [==============================] - 1s 9ms/step - loss: 3.9969 - accuracy: 0.2303\n\nEpoch 33/100\n\n151/151 [==============================] - 1s 9ms/step - loss: 3.9381 - accuracy: 0.2347\n\nEpoch 34/100\n\n151/151 [==============================] - 1s 9ms/step - loss: 3.8794 - accuracy: 0.2439\n\nEpoch 35/100\n\n151/151 [==============================] - 2s 11ms/step - loss: 3.8108 - accuracy: 0.2548\n\nEpoch 36/100\n\n151/151 [==============================] - 2s 10ms/step - loss: 3.7521 - accuracy: 0.2587\n\nEpoch 37/100\n\n151/151 [==============================] - 1s 10ms/step - loss: 3.6874 - accuracy: 0.2722\n\nEpoch 38/100\n\n151/151 [==============================] - 1s 9ms/step - loss: 3.6266 - accuracy: 0.2760\n\nEpoch 39/100\n\n151/151 [==============================] - 1s 10ms/step - loss: 3.5754 - accuracy: 0.2816\n\nEpoch 40/100\n\n151/151 [==============================] - 1s 9ms/step - loss: 3.5177 - accuracy: 0.2896\n\nEpoch 41/100\n\n151/151 [==============================] - 1s 9ms/step - loss: 3.4690 - accuracy: 0.2971\n\nEpoch 42/100\n\n151/151 [==============================] - 1s 9ms/step - loss: 3.4176 - accuracy: 0.3018\n\nEpoch 43/100\n\n151/151 [==============================] - 2s 10ms/step - loss: 3.3445 - accuracy: 0.3141\n\nEpoch 44/100\n\n151/151 [==============================] - 2s 11ms/step - loss: 3.2874 - accuracy: 0.3256\n\nEpoch 45/100\n\n151/151 [==============================] - 1s 10ms/step - loss: 3.2375 - accuracy: 0.3306\n\nEpoch 46/100\n\n151/151 [==============================] - 1s 10ms/step - loss: 3.1722 - accuracy: 0.3387\n\nEpoch 47/100\n\n151/151 [==============================] - 1s 9ms/step - loss: 3.1331 - accuracy: 0.3435\n\nEpoch 48/100\n\n151/151 [==============================] - 1s 9ms/step - loss: 3.1061 - accuracy: 0.3452\n\nEpoch 49/100\n\n151/151 [==============================] - 1s 9ms/step - loss: 3.0484 - accuracy: 0.3558\n\nEpoch 50/100\n\n151/151 [==============================] - 1s 9ms/step - loss: 2.9773 - accuracy: 0.3674\n\nEpoch 51/100\n\n151/151 [==============================] - 1s 9ms/step - loss: 2.9313 - accuracy: 0.3740\n\nEpoch 52/100\n\n151/151 [==============================] - 2s 12ms/step - loss: 2.8967 - accuracy: 0.3789\n\nEpoch 53/100\n\n151/151 [==============================] - 2s 10ms/step - loss: 2.8366 - accuracy: 0.3899\n\nEpoch 54/100\n\n151/151 [==============================] - 1s 9ms/step - loss: 2.7933 - accuracy: 0.3949\n\nEpoch 55/100\n\n151/151 [==============================] - 1s 9ms/step - loss: 2.7510 - accuracy: 0.4004\n\nEpoch 56/100\n\n151/151 [==============================] - 1s 9ms/step - loss: 2.7135 - accuracy: 0.4074\n\nEpoch 57/100\n\n151/151 [==============================] - 1s 9ms/step - loss: 2.6624 - accuracy: 0.4187\n\nEpoch 58/100\n\n151/151 [==============================] - 1s 9ms/step - loss: 2.6171 - accuracy: 0.4219\n\nEpoch 59/100\n\n151/151 [==============================] - 1s 9ms/step - loss: 2.5658 - accuracy: 0.4341\n\nEpoch 60/100\n\n151/151 [==============================] - 2s 11ms/step - loss: 2.5217 - accuracy: 0.4412\n\nEpoch 61/100\n\n151/151 [==============================] - 2s 11ms/step - loss: 2.4876 - accuracy: 0.4469\n\nEpoch 62/100\n\n151/151 [==============================] - 1s 10ms/step - loss: 2.4472 - accuracy: 0.4557\n\nEpoch 63/100\n\n151/151 [==============================] - 1s 9ms/step - loss: 2.4019 - accuracy: 0.4629\n\nEpoch 64/100\n\n151/151 [==============================] - 1s 9ms/step - loss: 2.3480 - accuracy: 0.4737\n\nEpoch 65/100\n\n151/151 [==============================] - 1s 9ms/step - loss: 2.3052 - accuracy: 0.4837\n\nEpoch 66/100\n\n151/151 [==============================] - 1s 9ms/step - loss: 2.2799 - accuracy: 0.4851\n\nEpoch 67/100\n\n151/151 [==============================] - 1s 10ms/step - loss: 2.2556 - accuracy: 0.4906\n\nEpoch 68/100\n\n151/151 [==============================] - 1s 10ms/step - loss: 2.1998 - accuracy: 0.5039\n\nEpoch 69/100\n\n151/151 [==============================] - 2s 11ms/step - loss: 2.1624 - accuracy: 0.5109\n\nEpoch 70/100\n\n151/151 [==============================] - 1s 10ms/step - loss: 2.1347 - accuracy: 0.5194\n\nEpoch 71/100\n\n151/151 [==============================] - 1s 9ms/step - loss: 2.1256 - accuracy: 0.5141\n\nEpoch 72/100\n\n151/151 [==============================] - 1s 9ms/step - loss: 2.0745 - accuracy: 0.5305\n\nEpoch 73/100\n\n151/151 [==============================] - 1s 9ms/step - loss: 2.0345 - accuracy: 0.5388\n\nEpoch 74/100\n\n151/151 [==============================] - 1s 9ms/step - loss: 1.9885 - accuracy: 0.5504\n\nEpoch 75/100\n\n151/151 [==============================] - 1s 10ms/step - loss: 1.9491 - accuracy: 0.5596\n\nEpoch 76/100\n\n151/151 [==============================] - 1s 10ms/step - loss: 1.9051 - accuracy: 0.5714\n\nEpoch 77/100\n\n151/151 [==============================] - 2s 11ms/step - loss: 1.8685 - accuracy: 0.5779\n\nEpoch 78/100\n\n151/151 [==============================] - 2s 11ms/step - loss: 1.8408 - accuracy: 0.5844\n\nEpoch 79/100\n\n151/151 [==============================] - 1s 10ms/step - loss: 1.8232 - accuracy: 0.5876\n\nEpoch 80/100\n\n151/151 [==============================] - 1s 9ms/step - loss: 1.7997 - accuracy: 0.5914\n\nEpoch 81/100\n\n151/151 [==============================] - 1s 9ms/step - loss: 1.7725 - accuracy: 0.5978\n\nEpoch 82/100\n\n151/151 [==============================] - 1s 10ms/step - loss: 1.7460 - accuracy: 0.6020\n\nEpoch 83/100\n\n151/151 [==============================] - 1s 10ms/step - loss: 1.7070 - accuracy: 0.6119\n\nEpoch 84/100\n\n151/151 [==============================] - 1s 9ms/step - loss: 1.6677 - accuracy: 0.6253\n\nEpoch 85/100\n\n151/151 [==============================] - 2s 10ms/step - loss: 1.6295 - accuracy: 0.6342\n\nEpoch 86/100\n\n151/151 [==============================] - 2s 11ms/step - loss: 1.6077 - accuracy: 0.6401\n\nEpoch 87/100\n\n151/151 [==============================] - 1s 10ms/step - loss: 1.5815 - accuracy: 0.6440\n\nEpoch 88/100\n\n151/151 [==============================] - 1s 9ms/step - loss: 1.5552 - accuracy: 0.6555\n\nEpoch 89/100\n\n151/151 [==============================] - 1s 10ms/step - loss: 1.5092 - accuracy: 0.6611\n\nEpoch 90/100\n\n151/151 [==============================] - 1s 9ms/step - loss: 1.4839 - accuracy: 0.6683\n\nEpoch 91/100\n\n151/151 [==============================] - 1s 9ms/step - loss: 1.4619 - accuracy: 0.6743\n\nEpoch 92/100\n\n151/151 [==============================] - 1s 9ms/step - loss: 1.4403 - accuracy: 0.6781\n\nEpoch 93/100\n\n151/151 [==============================] - 1s 9ms/step - loss: 1.4171 - accuracy: 0.6849\n\nEpoch 94/100\n\n151/151 [==============================] - 2s 11ms/step - loss: 1.3962 - accuracy: 0.6894\n\nEpoch 95/100\n\n151/151 [==============================] - 2s 11ms/step - loss: 1.3666 - accuracy: 0.6962\n\nEpoch 96/100\n\n151/151 [==============================] - 1s 10ms/step - loss: 1.3318 - accuracy: 0.7027\n\nEpoch 97/100\n\n151/151 [==============================] - 1s 10ms/step - loss: 1.3066 - accuracy: 0.7108\n\nEpoch 98/100\n\n151/151 [==============================] - 1s 10ms/step - loss: 1.2801 - accuracy: 0.7184\n\nEpoch 99/100\n\n151/151 [==============================] - 1s 9ms/step - loss: 1.2439 - accuracy: 0.7295\n\nEpoch 100/100\n\n151/151 [==============================] - 1s 9ms/step - loss: 1.2145 - accuracy: 0.7377\n"
        }
      ],
      "id": "oWPEdChsNJLf"
    },
    {
      "cell_type": "code",
      "source": [
        "def predict_next_word(input_text, n_best):\n",
        "    input_text = input_text.lower()\n",
        "    X = np.zeros((1, n_words, len(unique_tokens)))\n",
        "    for i, word in enumerate(input_text.split()):\n",
        "        X[0, i, unique_token_index[word]] = 1\n",
        "\n",
        "    predictions = model.predict(X)[0]\n",
        "    return np.argpartition(predictions, -n_best)[-n_best:]"
      ],
      "metadata": {
        "pycharm": {
          "name": "#%%\n"
        },
        "execution": {
          "iopub.status.busy": "2023-08-19T13:41:48.019730Z",
          "iopub.execute_input": "2023-08-19T13:41:48.020453Z",
          "iopub.status.idle": "2023-08-19T13:41:48.027084Z",
          "shell.execute_reply.started": "2023-08-19T13:41:48.020415Z",
          "shell.execute_reply": "2023-08-19T13:41:48.026010Z"
        },
        "id": "GMs_e2AYNJLi",
        "trusted": true
      },
      "execution_count": null,
      "outputs": [],
      "id": "GMs_e2AYNJLi"
    },
    {
      "cell_type": "code",
      "source": [
        "possible = predict_next_word(\"Mowgli was running in the \", 5)"
      ],
      "metadata": {
        "pycharm": {
          "name": "#%%\n"
        },
        "execution": {
          "iopub.status.busy": "2023-08-19T13:41:48.028751Z",
          "iopub.execute_input": "2023-08-19T13:41:48.029366Z",
          "iopub.status.idle": "2023-08-19T13:41:48.367806Z",
          "shell.execute_reply.started": "2023-08-19T13:41:48.029330Z",
          "shell.execute_reply": "2023-08-19T13:41:48.366872Z"
        },
        "id": "7l40FeMYNJLj",
        "outputId": "467e00ba-3779-49a0-fd4b-5d2e160f79be",
        "colab": {
          "base_uri": "https://localhost:8080/"
        },
        "trusted": true
      },
      "execution_count": null,
      "outputs": [
        {
          "output_type": "stream",
          "name": "stdout",
          "text": "1/1 [==============================] - 0s 389ms/step\n"
        }
      ],
      "id": "7l40FeMYNJLj"
    },
    {
      "cell_type": "code",
      "source": [
        "for idx in possible:\n",
        "    print(unique_tokens[idx])"
      ],
      "metadata": {
        "pycharm": {
          "name": "#%%\n"
        },
        "execution": {
          "iopub.status.busy": "2023-08-19T13:41:48.369151Z",
          "iopub.execute_input": "2023-08-19T13:41:48.369585Z",
          "iopub.status.idle": "2023-08-19T13:41:48.375467Z",
          "shell.execute_reply.started": "2023-08-19T13:41:48.369550Z",
          "shell.execute_reply": "2023-08-19T13:41:48.374388Z"
        },
        "id": "bi28AFKdNJLk",
        "outputId": "5cdf9639-b56c-42a6-91f0-083a7f5f3751",
        "colab": {
          "base_uri": "https://localhost:8080/"
        },
        "trusted": true
      },
      "execution_count": null,
      "outputs": [
        {
          "output_type": "stream",
          "name": "stdout",
          "text": "my\n\nhe\n\nmowgli\n\nthe\n\na\n"
        }
      ],
      "id": "bi28AFKdNJLk"
    },
    {
      "cell_type": "code",
      "source": [
        "def generate_text(input_text, n_words, creativity=3):\n",
        "    word_sequence = input_text.split()\n",
        "    current = 0\n",
        "    for _ in range(n_words):\n",
        "        sub_sequence = \" \".join(tokenizer.tokenize(\" \".join(word_sequence).lower())[current:current+n_words])\n",
        "        try:\n",
        "            choice = unique_tokens[random.choice(predict_next_word(sub_sequence, creativity))]\n",
        "        except:\n",
        "            choice = random.choice(unique_tokens)\n",
        "        word_sequence.append(choice)\n",
        "        current += 1\n",
        "    return \" \".join(word_sequence)"
      ],
      "metadata": {
        "pycharm": {
          "name": "#%%\n"
        },
        "execution": {
          "iopub.status.busy": "2023-08-19T13:41:48.376981Z",
          "iopub.execute_input": "2023-08-19T13:41:48.378172Z",
          "iopub.status.idle": "2023-08-19T13:41:48.386242Z",
          "shell.execute_reply.started": "2023-08-19T13:41:48.378136Z",
          "shell.execute_reply": "2023-08-19T13:41:48.385387Z"
        },
        "id": "nc1VnnEBNJLl",
        "trusted": true
      },
      "execution_count": null,
      "outputs": [],
      "id": "nc1VnnEBNJLl"
    },
    {
      "cell_type": "code",
      "source": [
        "generate_text(\"Mowgli and bagheera were playing in the forest and then suddenly sher khan appeared \", 100, 10)"
      ],
      "metadata": {
        "pycharm": {
          "name": "#%%\n"
        },
        "execution": {
          "iopub.status.busy": "2023-08-19T13:41:48.387889Z",
          "iopub.execute_input": "2023-08-19T13:41:48.388328Z",
          "iopub.status.idle": "2023-08-19T13:41:54.604767Z",
          "shell.execute_reply.started": "2023-08-19T13:41:48.388295Z",
          "shell.execute_reply": "2023-08-19T13:41:54.603833Z"
        },
        "id": "WgiX0qv1NJLm",
        "outputId": "c6eedf4a-9cca-4592-ad2b-dec34f972168",
        "colab": {
          "base_uri": "https://localhost:8080/",
          "height": 137
        },
        "trusted": true
      },
      "execution_count": null,
      "outputs": [
        {
          "output_type": "execute_result",
          "execution_count": 24,
          "data": {
            "text/plain": [
              "'Mowgli and bagheera were playing in the forest and then suddenly sher khan appeared fleas nor illo leap away hold foolishness uncomfortable fours crack sullenly hurried result rain yards when coping have very akela scratching made upon for note cries sleep brings surprise bearlings amazed on anyone shake lumps carelessness mother keep grieved earnestly squealing stopping talons hall ghost then raksha shall miserably whisper soul debt loved left raced dry after cloth presumptuous brings ten umph cold maimed light time a jackal government envied for mistake ground egg gasped thief death warned barrel hate fed scores hark answer dashed sleepy cannot forward are speaks thick shapeless sprung treetop white runs accepted tops plan dreaming'"
            ],
            "application/vnd.google.colaboratory.intrinsic+json": {
              "type": "string"
            }
          },
          "metadata": {}
        }
      ],
      "id": "WgiX0qv1NJLm"
    },
    {
      "cell_type": "code",
      "source": [
        "generate_text(\"the child mowgli are playing on the tree\", 100, 10)"
      ],
      "metadata": {
        "pycharm": {
          "name": "#%%\n"
        },
        "execution": {
          "iopub.status.busy": "2023-08-19T13:42:45.543048Z",
          "iopub.execute_input": "2023-08-19T13:42:45.543418Z",
          "iopub.status.idle": "2023-08-19T13:42:51.602863Z",
          "shell.execute_reply.started": "2023-08-19T13:42:45.543385Z",
          "shell.execute_reply": "2023-08-19T13:42:51.599343Z"
        },
        "id": "hlUyx9ZFNJLn",
        "outputId": "56cc043a-9217-42c3-b3f3-8575a5c89963",
        "colab": {
          "base_uri": "https://localhost:8080/",
          "height": 1000
        },
        "trusted": true
      },
      "execution_count": null,
      "outputs": [
        {
          "output_type": "stream",
          "name": "stdout",
          "text": "1/1 [==============================] - 0s 23ms/step\n\n1/1 [==============================] - 0s 20ms/step\n\n1/1 [==============================] - 0s 19ms/step\n\n1/1 [==============================] - 0s 19ms/step\n\n1/1 [==============================] - 0s 20ms/step\n\n1/1 [==============================] - 0s 19ms/step\n\n1/1 [==============================] - 0s 22ms/step\n\n1/1 [==============================] - 0s 20ms/step\n\n1/1 [==============================] - 0s 21ms/step\n\n1/1 [==============================] - 0s 18ms/step\n\n1/1 [==============================] - 0s 18ms/step\n\n1/1 [==============================] - 0s 19ms/step\n\n1/1 [==============================] - 0s 21ms/step\n\n1/1 [==============================] - 0s 18ms/step\n\n1/1 [==============================] - 0s 19ms/step\n\n1/1 [==============================] - 0s 19ms/step\n\n1/1 [==============================] - 0s 18ms/step\n\n1/1 [==============================] - 0s 20ms/step\n\n1/1 [==============================] - 0s 20ms/step\n\n1/1 [==============================] - 0s 20ms/step\n\n1/1 [==============================] - 0s 18ms/step\n\n1/1 [==============================] - 0s 20ms/step\n\n1/1 [==============================] - 0s 18ms/step\n\n1/1 [==============================] - 0s 21ms/step\n\n1/1 [==============================] - 0s 19ms/step\n\n1/1 [==============================] - 0s 20ms/step\n\n1/1 [==============================] - 0s 19ms/step\n\n1/1 [==============================] - 0s 17ms/step\n\n1/1 [==============================] - 0s 21ms/step\n\n1/1 [==============================] - 0s 22ms/step\n\n1/1 [==============================] - 0s 27ms/step\n\n1/1 [==============================] - 0s 23ms/step\n\n1/1 [==============================] - 0s 21ms/step\n\n1/1 [==============================] - 0s 18ms/step\n\n1/1 [==============================] - 0s 18ms/step\n\n1/1 [==============================] - 0s 21ms/step\n\n1/1 [==============================] - 0s 20ms/step\n\n1/1 [==============================] - 0s 17ms/step\n\n1/1 [==============================] - 0s 17ms/step\n\n1/1 [==============================] - 0s 18ms/step\n\n1/1 [==============================] - 0s 19ms/step\n\n1/1 [==============================] - 0s 17ms/step\n\n1/1 [==============================] - 0s 17ms/step\n\n1/1 [==============================] - 0s 19ms/step\n\n1/1 [==============================] - 0s 17ms/step\n\n1/1 [==============================] - 0s 17ms/step\n\n1/1 [==============================] - 0s 20ms/step\n\n1/1 [==============================] - 0s 21ms/step\n\n1/1 [==============================] - 0s 22ms/step\n\n1/1 [==============================] - 0s 24ms/step\n\n1/1 [==============================] - 0s 19ms/step\n\n1/1 [==============================] - 0s 18ms/step\n\n1/1 [==============================] - 0s 24ms/step\n\n1/1 [==============================] - 0s 21ms/step\n\n1/1 [==============================] - 0s 18ms/step\n\n1/1 [==============================] - 0s 19ms/step\n\n1/1 [==============================] - 0s 19ms/step\n\n1/1 [==============================] - 0s 19ms/step\n\n1/1 [==============================] - 0s 21ms/step\n\n1/1 [==============================] - 0s 20ms/step\n\n1/1 [==============================] - 0s 23ms/step\n\n1/1 [==============================] - 0s 21ms/step\n\n1/1 [==============================] - 0s 21ms/step\n\n1/1 [==============================] - 0s 21ms/step\n\n1/1 [==============================] - 0s 18ms/step\n\n1/1 [==============================] - 0s 18ms/step\n\n1/1 [==============================] - 0s 19ms/step\n\n1/1 [==============================] - 0s 21ms/step\n\n1/1 [==============================] - 0s 18ms/step\n\n1/1 [==============================] - 0s 19ms/step\n\n1/1 [==============================] - 0s 18ms/step\n\n1/1 [==============================] - 0s 21ms/step\n\n1/1 [==============================] - 0s 19ms/step\n\n1/1 [==============================] - 0s 21ms/step\n\n1/1 [==============================] - 0s 20ms/step\n\n1/1 [==============================] - 0s 21ms/step\n\n1/1 [==============================] - 0s 20ms/step\n\n1/1 [==============================] - 0s 20ms/step\n\n1/1 [==============================] - 0s 18ms/step\n\n1/1 [==============================] - 0s 18ms/step\n\n1/1 [==============================] - 0s 19ms/step\n\n1/1 [==============================] - 0s 19ms/step\n\n1/1 [==============================] - 0s 21ms/step\n\n1/1 [==============================] - 0s 18ms/step\n\n1/1 [==============================] - 0s 23ms/step\n\n1/1 [==============================] - 0s 18ms/step\n\n1/1 [==============================] - 0s 18ms/step\n\n1/1 [==============================] - 0s 22ms/step\n\n1/1 [==============================] - 0s 21ms/step\n\n1/1 [==============================] - 0s 20ms/step\n\n1/1 [==============================] - 0s 18ms/step\n\n1/1 [==============================] - 0s 19ms/step\n\n1/1 [==============================] - 0s 28ms/step\n\n1/1 [==============================] - 0s 28ms/step\n\n1/1 [==============================] - 0s 32ms/step\n\n1/1 [==============================] - 0s 30ms/step\n\n1/1 [==============================] - 0s 33ms/step\n\n1/1 [==============================] - 0s 38ms/step\n\n1/1 [==============================] - 0s 28ms/step\n\n1/1 [==============================] - 0s 29ms/step\n"
        },
        {
          "output_type": "execute_result",
          "execution_count": 21,
          "data": {
            "text/plain": [
              "'the child mowgli are playing on the tree faithfully art he beasts he while least runs but his here ikki tabaqui mowgli there should there illo said bagheera my see would listen nothing only from as us kill up down near hung i i art through i my there shere remember see himself here what play mowgli speak see honey nor listen why i next out about what if not went shere their so about come what could me were we wise that their being except of go didst might that so shameless as he we strong half that thy shere any lazy it sought still once his'"
            ],
            "application/vnd.google.colaboratory.intrinsic+json": {
              "type": "string"
            }
          },
          "metadata": {}
        }
      ],
      "id": "hlUyx9ZFNJLn"
    },
    {
      "cell_type": "code",
      "source": [
        "for idx in predict_next_word(\"mowgli on the tree\", 50):\n",
        "    print(unique_tokens[idx],end=' ')"
      ],
      "metadata": {
        "pycharm": {
          "name": "#%%\n"
        },
        "execution": {
          "iopub.status.busy": "2023-08-19T13:43:14.988064Z",
          "iopub.execute_input": "2023-08-19T13:43:14.989025Z",
          "iopub.status.idle": "2023-08-19T13:43:15.052366Z",
          "shell.execute_reply.started": "2023-08-19T13:43:14.988979Z",
          "shell.execute_reply": "2023-08-19T13:43:15.051362Z"
        },
        "id": "aOUXDtk0NJLo",
        "outputId": "19e90faa-886d-4879-c148-576e53e74bb8",
        "colab": {
          "base_uri": "https://localhost:8080/"
        },
        "trusted": true
      },
      "execution_count": null,
      "outputs": [
        {
          "output_type": "stream",
          "name": "stdout",
          "text": "1/1 [==============================] - 0s 21ms/step\n\ntonight perfectly one better always things bare tongue foolish even oh lifted brother safe hungry down going strike killed give near something say pushed oho so almost like meant take here sent come folly indeed taught because little tell ten than thee o heard sit off betrayed look any out "
        }
      ],
      "id": "aOUXDtk0NJLo"
    },
    {
      "cell_type": "code",
      "source": [],
      "metadata": {
        "id": "IrQR1lZyNJLp"
      },
      "execution_count": null,
      "outputs": [],
      "id": "IrQR1lZyNJLp"
    }
  ]
}